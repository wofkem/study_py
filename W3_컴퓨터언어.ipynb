{
  "nbformat": 4,
  "nbformat_minor": 0,
  "metadata": {
    "colab": {
      "provenance": [],
      "authorship_tag": "ABX9TyN3IjeTGL469JMuN8NFhkyg",
      "include_colab_link": true
    },
    "kernelspec": {
      "name": "python3",
      "display_name": "Python 3"
    },
    "language_info": {
      "name": "python"
    }
  },
  "cells": [
    {
      "cell_type": "markdown",
      "metadata": {
        "id": "view-in-github",
        "colab_type": "text"
      },
      "source": [
        "<a href=\"https://colab.research.google.com/github/wofkem/study_py/blob/main/W3_%EC%BB%B4%ED%93%A8%ED%84%B0%EC%96%B8%EC%96%B4.ipynb\" target=\"_parent\"><img src=\"https://colab.research.google.com/assets/colab-badge.svg\" alt=\"Open In Colab\"/></a>"
      ]
    },
    {
      "cell_type": "code",
      "execution_count": 11,
      "metadata": {
        "id": "jp8ehOs6rOW0"
      },
      "outputs": [],
      "source": [
        "#1. 환경준비\n",
        "from tensorflow.keras.models import Sequential #텐서플로에 있는 라이브러리에서 케라스라는 모델의 시퀀셜이라는 함수 텐서플로는 비행기 케라스는 파일럿\n",
        "from tensorflow.keras.layers import Dense\n",
        "import numpy as np #축약해서 부르기 쉽게 numpy는 colab에 이미 포함\n",
        "#from (라이브러리명) import (함수명) 라이브러리에 포함된 모듈이 많을 때, 지금 필요한 모델만 불러오기"
      ]
    },
    {
      "cell_type": "code",
      "source": [
        "#2. 데이터준비\n",
        "#Data를 불러오는 방법 1. 직접 업로드 2. 깃허브에서 불러오는 방법\n",
        "Data_set=np.loadtxt('https://raw.githubusercontent.com/dhshinEddie/DeepKMOU/main/W3/ThoraricSurgery3.csv',delimiter=\",\") #np라이브러리의 loadtxt함수 사용\n",
        "#1~16은 속성(의료기록 16가지) 17은 클래스 1~16을 기반으로 17을 예상 / 470은 샘플 수(환자 수)\n",
        "X = Data_set[:,0:16] #모든 행의 1번째 열부터 17번째 열까지\n",
        "y = Data_set[:,16] #클래스 하나의 원소만 담는다 0부터 시작이므로 17번째 클래스를 가르킴"
      ],
      "metadata": {
        "id": "ODzlBIRc3HU0"
      },
      "execution_count": 6,
      "outputs": []
    },
    {
      "cell_type": "code",
      "source": [
        "#3. 구조결정\n",
        "#keras 활용법\n",
        "model = Sequential() #Sequential함수를 model로 선언\n",
        "model.add(Dense(30, input_dim=16, activation='relu')) #딥러닝의 한층한층을 model.add함수를 통해 추가\n",
        "model.add(Dense(1, activation='sigmoid')) #Dense() : 각 층의 입력과 출력을 촘촘하게 모두 연결"
      ],
      "metadata": {
        "id": "iP0H-P8T3HeU"
      },
      "execution_count": 7,
      "outputs": []
    },
    {
      "cell_type": "code",
      "source": [
        "#4. 모델실행\n",
        "model.compile(loss='binary_crossentropy', optimizer='adam', metrics=['accuracy']) #model의 설정을 그대로 실행\n",
        "history = model.fit(X, y, epochs=5, batch_size=16) #딥러닝에서 학습을 할 때 layer들을 여러 번 통과할텐데 그 때에 있어서의 최적의 모델을 찾는 함수"
      ],
      "metadata": {
        "colab": {
          "base_uri": "https://localhost:8080/"
        },
        "id": "thjS1Dlw3Hlk",
        "outputId": "525ef06a-3c04-484f-e64d-30ea0181b6df"
      },
      "execution_count": 18,
      "outputs": [
        {
          "output_type": "stream",
          "name": "stdout",
          "text": [
            "Epoch 1/5\n",
            "30/30 [==============================] - 1s 2ms/step - loss: 0.4266 - accuracy: 0.8511\n",
            "Epoch 2/5\n",
            "30/30 [==============================] - 0s 2ms/step - loss: 0.4041 - accuracy: 0.8468\n",
            "Epoch 3/5\n",
            "30/30 [==============================] - 0s 2ms/step - loss: 0.4058 - accuracy: 0.8511\n",
            "Epoch 4/5\n",
            "30/30 [==============================] - 0s 3ms/step - loss: 0.4086 - accuracy: 0.8489\n",
            "Epoch 5/5\n",
            "30/30 [==============================] - 0s 2ms/step - loss: 0.4010 - accuracy: 0.8489\n"
          ]
        }
      ]
    }
  ]
}